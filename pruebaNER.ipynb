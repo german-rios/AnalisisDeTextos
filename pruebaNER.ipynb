{
 "cells": [
  {
   "cell_type": "code",
   "execution_count": 1,
   "metadata": {},
   "outputs": [],
   "source": [
    "from nerd import ner\n",
    "texto=\"GitHub launched April 10, 2008, a subsidiary of Microsoft México, is an American web-based hosting service for version control using Git.It is mostly used for computer code. It offers all of the distributed version control and source code management (SCM) functionality of Donald Trump Trump as well as adding its own features.\"\n",
    "doc = ner.name(texto, language='en_core_web_sm')\n"
   ]
  },
  {
   "cell_type": "code",
   "execution_count": 2,
   "metadata": {},
   "outputs": [
    {
     "data": {
      "text/plain": [
       "(GitHub,\n",
       " April 10, 2008,\n",
       " Microsoft México,\n",
       " American,\n",
       " Git,\n",
       " SCM,\n",
       " Donald Trump Trump)"
      ]
     },
     "execution_count": 2,
     "metadata": {},
     "output_type": "execute_result"
    }
   ],
   "source": [
    "doc"
   ]
  },
  {
   "cell_type": "code",
   "execution_count": 3,
   "metadata": {},
   "outputs": [
    {
     "name": "stdout",
     "output_type": "stream",
     "text": [
      "[('GitHub', 'ORG'), ('April 10, 2008', 'DATE'), ('Microsoft México', 'ORG'), ('American', 'NORP'), ('Git', 'PERSON'), ('SCM', 'ORG'), ('Donald Trump Trump', 'PERSON')]\n"
     ]
    }
   ],
   "source": [
    "text_label = [(X.text, X.label_) for X in doc]\n",
    "print(text_label)"
   ]
  },
  {
   "cell_type": "code",
   "execution_count": 4,
   "metadata": {},
   "outputs": [],
   "source": [
    "for text, label in text_label:     texto= texto.replace(text, label)"
   ]
  },
  {
   "cell_type": "code",
   "execution_count": 5,
   "metadata": {},
   "outputs": [
    {
     "data": {
      "text/plain": [
       "'ORG launched DATE, a subsidiary of ORG, is an NORP web-based hosting service for version control using PERSON.It is mostly used for computer code. It offers all of the distributed version control and source code management (ORG) functionality of PERSON as well as adding its own features.'"
      ]
     },
     "execution_count": 5,
     "metadata": {},
     "output_type": "execute_result"
    }
   ],
   "source": [
    "texto"
   ]
  },
  {
   "cell_type": "code",
   "execution_count": null,
   "metadata": {},
   "outputs": [],
   "source": []
  },
  {
   "cell_type": "code",
   "execution_count": null,
   "metadata": {},
   "outputs": [],
   "source": []
  },
  {
   "cell_type": "code",
   "execution_count": null,
   "metadata": {},
   "outputs": [],
   "source": []
  },
  {
   "cell_type": "code",
   "execution_count": null,
   "metadata": {},
   "outputs": [],
   "source": []
  },
  {
   "cell_type": "code",
   "execution_count": null,
   "metadata": {},
   "outputs": [],
   "source": []
  }
 ],
 "metadata": {
  "kernelspec": {
   "display_name": "Python 3",
   "language": "python",
   "name": "python3"
  },
  "language_info": {
   "codemirror_mode": {
    "name": "ipython",
    "version": 3
   },
   "file_extension": ".py",
   "mimetype": "text/x-python",
   "name": "python",
   "nbconvert_exporter": "python",
   "pygments_lexer": "ipython3",
   "version": "3.7.9"
  }
 },
 "nbformat": 4,
 "nbformat_minor": 4
}
