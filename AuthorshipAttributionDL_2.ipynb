{
 "cells": [
  {
   "cell_type": "code",
   "execution_count": 1,
   "metadata": {},
   "outputs": [
    {
     "name": "stderr",
     "output_type": "stream",
     "text": [
      "Using TensorFlow backend.\n"
     ]
    }
   ],
   "source": [
    "import tensorflow as tf\n",
    "import numpy as np\n",
    "import pandas\n",
    "from sklearn.model_selection import train_test_split\n",
    "from sklearn.feature_extraction.text import CountVectorizer\n",
    "from sklearn.linear_model import LogisticRegression\n",
    "\n",
    "from tensorflow.keras.models import Sequential\n",
    "from tensorflow.keras import layers\n",
    "from keras.preprocessing.text import Tokenizer\n",
    "from keras.preprocessing.sequence import pad_sequences\n",
    "from keras.utils import to_categorical\n",
    "from sklearn.preprocessing import OneHotEncoder\n",
    "from keras.utils import plot_model\n"
   ]
  },
  {
   "cell_type": "code",
   "execution_count": 2,
   "metadata": {},
   "outputs": [],
   "source": [
    "articles = []\n",
    "labels = []\n",
    "\n",
    "DataSet=pandas.read_csv(\"c:\\\\AttributionDL\\\\AttributionDataset.csv\", delimiter = ',')\n",
    "DataSet=DataSet.sample(frac = 1).reset_index(drop=True)#to shuffle your dataframe in-place and reset the index\n",
    "\n",
    "for i in range(len(DataSet)) : \n",
    "    articles.append(DataSet.loc[i, \"Texto\"])\n",
    "    labels.append(DataSet.loc[i, \"Autor\"])"
   ]
  },
  {
   "cell_type": "code",
   "execution_count": 3,
   "metadata": {},
   "outputs": [],
   "source": [
    "#creando conjuntos de entrenamiento y prueba\n",
    "train_articles,test_articles,train_labels,test_labels = train_test_split(articles,labels, test_size = 0.20, random_state = 42)"
   ]
  },
  {
   "cell_type": "code",
   "execution_count": 4,
   "metadata": {},
   "outputs": [],
   "source": [
    "vectorizer = CountVectorizer()\n",
    "vectorizer.fit(train_articles)\n",
    "X_train = vectorizer.transform(train_articles)\n",
    "X_test  = vectorizer.transform(test_articles)"
   ]
  },
  {
   "cell_type": "code",
   "execution_count": 5,
   "metadata": {},
   "outputs": [
    {
     "name": "stdout",
     "output_type": "stream",
     "text": [
      "(768, 38196) (192, 38196)\n"
     ]
    }
   ],
   "source": [
    "train_labels = pandas.get_dummies(train_labels)\n",
    "test_labels = pandas.get_dummies(test_labels) \n",
    "#una pagina indica que to_categorical solo enteros como entrada\n",
    "#y que get_dummies() de pandas acepta cadenas\n",
    "print(X_train.shape,X_test.shape)"
   ]
  },
  {
   "cell_type": "code",
   "execution_count": 6,
   "metadata": {},
   "outputs": [],
   "source": [
    "#X_train= np.asarray(X_train)\n",
    "#X_test= np.asarray(X_test)\n",
    "train_labels = np.asarray(train_labels)#convertí para pasarlode dataframe a numpyarray\n",
    "test_labels = np.asarray(test_labels)  #así evite el error de inconsistencia de tipo en fit()"
   ]
  },
  {
   "cell_type": "code",
   "execution_count": 7,
   "metadata": {},
   "outputs": [
    {
     "name": "stdout",
     "output_type": "stream",
     "text": [
      "Model: \"sequential\"\n",
      "_________________________________________________________________\n",
      "Layer (type)                 Output Shape              Param #   \n",
      "=================================================================\n",
      "dense (Dense)                (None, 10)                381970    \n",
      "_________________________________________________________________\n",
      "dense_1 (Dense)              (None, 7)                 77        \n",
      "=================================================================\n",
      "Total params: 382,047\n",
      "Trainable params: 382,047\n",
      "Non-trainable params: 0\n",
      "_________________________________________________________________\n"
     ]
    }
   ],
   "source": [
    "input_dim = X_train.shape[1]  # Number of features\n",
    "\n",
    "#pendiente para graficarla\n",
    "model = Sequential()\n",
    "model.add(layers.Dense(10, input_dim=input_dim, activation='relu'))\n",
    "model.add(layers.Dense(7, activation='sigmoid')) #7 indicaría el numero de etiquetas\n",
    "model.summary()"
   ]
  },
  {
   "cell_type": "code",
   "execution_count": 8,
   "metadata": {},
   "outputs": [
    {
     "data": {
      "image/png": "[encoded data removed]",
      "text/plain": [
       "<IPython.core.display.Image object>"
      ]
     },
     "execution_count": 8,
     "metadata": {},
     "output_type": "execute_result"
    }
   ],
   "source": [
    "#graficando el modelo\n",
    "tf.keras.utils.plot_model(model, to_file='model_plot4a.png', show_shapes=True, show_layer_names=True)"
   ]
  },
  {
   "cell_type": "code",
   "execution_count": 9,
   "metadata": {},
   "outputs": [],
   "source": [
    "#compilando la red\n",
    "model.compile(loss='categorical_crossentropy', optimizer='adam', metrics=['accuracy'])"
   ]
  },
  {
   "cell_type": "code",
   "execution_count": 14,
   "metadata": {},
   "outputs": [
    {
     "name": "stdout",
     "output_type": "stream",
     "text": [
      "Epoch 1/20\n",
      "77/77 [==============================] - 0s 4ms/step - loss: 0.1913 - accuracy: 0.8750 - val_loss: 2.0689 - val_accuracy: 0.8177\n",
      "Epoch 2/20\n",
      "77/77 [==============================] - 0s 4ms/step - loss: 0.1911 - accuracy: 0.8750 - val_loss: 2.1122 - val_accuracy: 0.8125\n",
      "Epoch 3/20\n",
      "77/77 [==============================] - 0s 4ms/step - loss: 0.1909 - accuracy: 0.8750 - val_loss: 2.1379 - val_accuracy: 0.8125\n",
      "Epoch 4/20\n",
      "77/77 [==============================] - 0s 4ms/step - loss: 0.1908 - accuracy: 0.8750 - val_loss: 2.1959 - val_accuracy: 0.8125\n",
      "Epoch 5/20\n",
      "77/77 [==============================] - 0s 5ms/step - loss: 0.1938 - accuracy: 0.8737 - val_loss: 1.9122 - val_accuracy: 0.8073\n",
      "Epoch 6/20\n",
      "77/77 [==============================] - 0s 5ms/step - loss: 0.2288 - accuracy: 0.8698 - val_loss: 1.4550 - val_accuracy: 0.8385\n",
      "Epoch 7/20\n",
      "77/77 [==============================] - 0s 4ms/step - loss: 0.2945 - accuracy: 0.8594 - val_loss: 1.8685 - val_accuracy: 0.8021\n",
      "Epoch 8/20\n",
      "77/77 [==============================] - 0s 4ms/step - loss: 0.2147 - accuracy: 0.8698 - val_loss: 2.0781 - val_accuracy: 0.7969\n",
      "Epoch 9/20\n",
      "77/77 [==============================] - 0s 3ms/step - loss: 0.1961 - accuracy: 0.8737 - val_loss: 1.8446 - val_accuracy: 0.8177\n",
      "Epoch 10/20\n",
      "77/77 [==============================] - 0s 3ms/step - loss: 0.1942 - accuracy: 0.8750 - val_loss: 1.6895 - val_accuracy: 0.8229\n",
      "Epoch 11/20\n",
      "77/77 [==============================] - 0s 5ms/step - loss: 0.1932 - accuracy: 0.8750 - val_loss: 1.6212 - val_accuracy: 0.8177\n",
      "Epoch 12/20\n",
      "77/77 [==============================] - 0s 5ms/step - loss: 0.1928 - accuracy: 0.8737 - val_loss: 1.5478 - val_accuracy: 0.8229\n",
      "Epoch 13/20\n",
      "77/77 [==============================] - 0s 5ms/step - loss: 0.1924 - accuracy: 0.8750 - val_loss: 1.5073 - val_accuracy: 0.8229\n",
      "Epoch 14/20\n",
      "77/77 [==============================] - 0s 5ms/step - loss: 0.1920 - accuracy: 0.8750 - val_loss: 1.4871 - val_accuracy: 0.8229\n",
      "Epoch 15/20\n",
      "77/77 [==============================] - 0s 5ms/step - loss: 0.1917 - accuracy: 0.8750 - val_loss: 1.5081 - val_accuracy: 0.8229\n",
      "Epoch 16/20\n",
      "77/77 [==============================] - 0s 5ms/step - loss: 0.1914 - accuracy: 0.8750 - val_loss: 1.5043 - val_accuracy: 0.8229\n",
      "Epoch 17/20\n",
      "77/77 [==============================] - 0s 4ms/step - loss: 0.1912 - accuracy: 0.8750 - val_loss: 1.4901 - val_accuracy: 0.8229\n",
      "Epoch 18/20\n",
      "77/77 [==============================] - 0s 3ms/step - loss: 0.1909 - accuracy: 0.8750 - val_loss: 1.4974 - val_accuracy: 0.8229\n",
      "Epoch 19/20\n",
      "77/77 [==============================] - 0s 3ms/step - loss: 0.1908 - accuracy: 0.8750 - val_loss: 1.4904 - val_accuracy: 0.8229\n",
      "Epoch 20/20\n",
      "77/77 [==============================] - 0s 3ms/step - loss: 0.1906 - accuracy: 0.8750 - val_loss: 1.4864 - val_accuracy: 0.8281\n",
      "6/6 [==============================] - 0s 2ms/step - loss: 1.4864 - accuracy: 0.8281\n",
      "Test set\n",
      "  Loss: 1.486\n",
      "  Accuracy: 0.828\n"
     ]
    }
   ],
   "source": [
    "#evaluando distintas formas de uso para fit\n",
    "history = model.fit(X_train, train_labels, epochs=20,validation_data=(X_test,test_labels),batch_size=10)\n",
    "\n",
    "accr = model.evaluate(X_test,test_labels)\n",
    "print('Test set\\n  Loss: {:0.3f}\\n  Accuracy: {:0.3f}'.format(accr[0],accr[1]))"
   ]
  },
  {
   "cell_type": "code",
   "execution_count": null,
   "metadata": {},
   "outputs": [],
   "source": []
  },
  {
   "cell_type": "code",
   "execution_count": null,
   "metadata": {},
   "outputs": [],
   "source": []
  },
  {
   "cell_type": "code",
   "execution_count": null,
   "metadata": {},
   "outputs": [],
   "source": []
  },
  {
   "cell_type": "code",
   "execution_count": null,
   "metadata": {},
   "outputs": [],
   "source": []
  },
  {
   "cell_type": "code",
   "execution_count": null,
   "metadata": {},
   "outputs": [],
   "source": []
  },
  {
   "cell_type": "code",
   "execution_count": null,
   "metadata": {},
   "outputs": [],
   "source": []
  },
  {
   "cell_type": "code",
   "execution_count": null,
   "metadata": {},
   "outputs": [],
   "source": []
  },
  {
   "cell_type": "code",
   "execution_count": null,
   "metadata": {},
   "outputs": [],
   "source": []
  },
  {
   "cell_type": "code",
   "execution_count": null,
   "metadata": {},
   "outputs": [],
   "source": []
  },
  {
   "cell_type": "code",
   "execution_count": null,
   "metadata": {},
   "outputs": [],
   "source": []
  },
  {
   "cell_type": "code",
   "execution_count": null,
   "metadata": {},
   "outputs": [],
   "source": []
  },
  {
   "cell_type": "code",
   "execution_count": null,
   "metadata": {},
   "outputs": [],
   "source": []
  },
  {
   "cell_type": "code",
   "execution_count": null,
   "metadata": {},
   "outputs": [],
   "source": []
  },
  {
   "cell_type": "code",
   "execution_count": null,
   "metadata": {},
   "outputs": [],
   "source": []
  },
  {
   "cell_type": "code",
   "execution_count": null,
   "metadata": {},
   "outputs": [],
   "source": []
  },
  {
   "cell_type": "code",
   "execution_count": null,
   "metadata": {},
   "outputs": [],
   "source": []
  },
  {
   "cell_type": "code",
   "execution_count": null,
   "metadata": {},
   "outputs": [],
   "source": []
  },
  {
   "cell_type": "code",
   "execution_count": null,
   "metadata": {},
   "outputs": [],
   "source": []
  },
  {
   "cell_type": "code",
   "execution_count": null,
   "metadata": {},
   "outputs": [],
   "source": []
  },
  {
   "cell_type": "code",
   "execution_count": null,
   "metadata": {},
   "outputs": [],
   "source": []
  }
 ],
 "metadata": {
  "kernelspec": {
   "display_name": "Python 3",
   "language": "python",
   "name": "python3"
  },
  "language_info": {
   "codemirror_mode": {
    "name": "ipython",
    "version": 3
   },
   "file_extension": ".py",
   "mimetype": "text/x-python",
   "name": "python",
   "nbconvert_exporter": "python",
   "pygments_lexer": "ipython3",
   "version": "3.7.9"
  }
 },
 "nbformat": 4,
 "nbformat_minor": 4
}
