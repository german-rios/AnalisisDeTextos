{
 "cells": [
  {
   "cell_type": "code",
   "execution_count": 1,
   "metadata": {},
   "outputs": [
    {
     "name": "stderr",
     "output_type": "stream",
     "text": [
      "Using TensorFlow backend.\n"
     ]
    }
   ],
   "source": [
    "import tensorflow as tf\n",
    "import numpy as np\n",
    "from tensorflow.keras.preprocessing.text import Tokenizer\n",
    "from tensorflow.keras.preprocessing.sequence import pad_sequences\n",
    "from tensorflow.keras.models import Sequential\n",
    "from tensorflow.keras.layers import Dense, Flatten, LSTM, Dropout, Activation, Embedding, Bidirectional,SpatialDropout1D\n",
    "from sklearn.model_selection import train_test_split\n",
    "from tensorflow.keras.callbacks import EarlyStopping\n",
    "import pandas\n",
    "from keras.utils import plot_model"
   ]
  },
  {
   "cell_type": "code",
   "execution_count": 2,
   "metadata": {},
   "outputs": [],
   "source": [
    "#parametros para vocabulario y la red\n",
    "vocab_size = 15000 # make the top list of words (common words)\n",
    "embedding_dim = 64\n",
    "max_length = 200\n",
    "trunc_type = 'post'\n",
    "padding_type = 'post'\n",
    "oov_tok = '<OOV>' # OOV = Out of Vocabulary\n",
    "training_portion = .8\n",
    "epochs = 10\n",
    "batch_size = 64"
   ]
  },
  {
   "cell_type": "code",
   "execution_count": 3,
   "metadata": {},
   "outputs": [],
   "source": [
    "#lectura del dataset\n",
    "DataSet=pandas.read_csv(\"c:\\\\AttributionDL\\\\AttributionDataset.csv\", delimiter = ',')\n",
    "#los datos son reordenados al azar\n",
    "DataSet=DataSet.sample(frac = 1).reset_index(drop=True)#to shuffle your dataframe in-place and reset the index"
   ]
  },
  {
   "cell_type": "code",
   "execution_count": 4,
   "metadata": {},
   "outputs": [
    {
     "name": "stdout",
     "output_type": "stream",
     "text": [
      "              Autor                                              Texto\n",
      "0      GeorgeDonald  A large garden of any sort is valuable, but an...\n",
      "1         MarkTwain  \"No, I haven't.\" I see myself there warn't no ...\n",
      "2         MarkTwain  However, had not we the seductive program stil...\n",
      "3        LouisTracy  David narrowly escaped an apoplectic seizure. ...\n",
      "4      GeorgeDonald  \"What a funny name!\" \"It's a very nice name,\" ...\n",
      "..              ...                                                ...\n",
      "955       MarkTwain  The way I was looked upon was odd, but it was\\...\n",
      "956    GeorgeDonald  She felt sad, weak, and, perhaps, for the firs...\n",
      "957  CharlesDickens  I was tired of reading, and dead sleepy; but h...\n",
      "958    GeorgeVaizey  She had feared. Ever since receiving her frien...\n",
      "959      LouisTracy  \"Haven't you heard of Kosnovia? It is a little...\n",
      "\n",
      "[960 rows x 2 columns]\n"
     ]
    }
   ],
   "source": [
    "print (DataSet)"
   ]
  },
  {
   "cell_type": "code",
   "execution_count": 5,
   "metadata": {},
   "outputs": [],
   "source": [
    "articles = []\n",
    "labels = []\n",
    "#se extraen los datos a cada una de las listas\n",
    "for i in range(len(DataSet)) : \n",
    "    labels.append(DataSet.loc[i, \"Autor\"])\n",
    "    articles.append(DataSet.loc[i, \"Texto\"])"
   ]
  },
  {
   "cell_type": "code",
   "execution_count": 6,
   "metadata": {},
   "outputs": [
    {
     "name": "stdout",
     "output_type": "stream",
     "text": [
      "Found 108091 unique tokens.\n"
     ]
    }
   ],
   "source": [
    "#se crea el vocabulario\n",
    "tokenizer = Tokenizer(num_words = vocab_size, oov_token=oov_tok,filters='!\"#$%&()*+,-./:;<=>?@[\\]^_`{|}~ ', lower=True, split=' ', char_level=False)\n",
    "tokenizer.fit_on_texts(articles)\n",
    "word_index = tokenizer.word_index\n",
    "print('Found %s unique tokens.' % len(word_index))"
   ]
  },
  {
   "cell_type": "code",
   "execution_count": 7,
   "metadata": {},
   "outputs": [
    {
     "name": "stdout",
     "output_type": "stream",
     "text": [
      "Shape of data tensor: (960, 200)\n",
      "Shape of label tensor: (960, 7)\n"
     ]
    }
   ],
   "source": [
    "#los textos se convierten a numeros \n",
    "TextToSequencesArticles = tokenizer.texts_to_sequences(articles) \n",
    "#despues se fijan a una misma longitud (200)\n",
    "TextToSequencesArticles = pad_sequences(TextToSequencesArticles, maxlen=max_length)\n",
    "print('Shape of data tensor:', TextToSequencesArticles.shape)\n",
    "#las etiquetas de autor son convertidas a one-hot encode\n",
    "CategoricalToNumbersLabels = pandas.get_dummies(labels)\n",
    "print('Shape of label tensor:', CategoricalToNumbersLabels.shape)"
   ]
  },
  {
   "cell_type": "code",
   "execution_count": 8,
   "metadata": {},
   "outputs": [
    {
     "name": "stdout",
     "output_type": "stream",
     "text": [
      "(768, 200) (768, 7)\n",
      "(192, 200) (192, 7)\n"
     ]
    }
   ],
   "source": [
    "#creando conjuntos de entrenamiento y prueba\n",
    "train_articles,validation_articles,train_labels,validation_labels = train_test_split(TextToSequencesArticles,CategoricalToNumbersLabels, test_size = 0.20, random_state = 42)\n",
    "print(train_articles.shape,train_labels.shape)\n",
    "print(validation_articles.shape,validation_labels.shape)"
   ]
  },
  {
   "cell_type": "code",
   "execution_count": 9,
   "metadata": {},
   "outputs": [
    {
     "name": "stdout",
     "output_type": "stream",
     "text": [
      "Model: \"sequential\"\n",
      "_________________________________________________________________\n",
      "Layer (type)                 Output Shape              Param #   \n",
      "=================================================================\n",
      "embedding (Embedding)        (None, None, 64)          960000    \n",
      "_________________________________________________________________\n",
      "dropout (Dropout)            (None, None, 64)          0         \n",
      "_________________________________________________________________\n",
      "bidirectional (Bidirectional (None, 128)               66048     \n",
      "_________________________________________________________________\n",
      "dense (Dense)                (None, 7)                 903       \n",
      "=================================================================\n",
      "Total params: 1,026,951\n",
      "Trainable params: 1,026,951\n",
      "Non-trainable params: 0\n",
      "_________________________________________________________________\n"
     ]
    }
   ],
   "source": [
    "#creando la red \n",
    "model=Sequential()\n",
    "model.add(Embedding(vocab_size,embedding_dim))\n",
    "model.add(Dropout(0.5))\n",
    "model.add(Bidirectional(LSTM(embedding_dim)))\n",
    "model.add(Dense(7,activation='softmax'))\n",
    "model.summary()"
   ]
  },
  {
   "cell_type": "code",
   "execution_count": 10,
   "metadata": {},
   "outputs": [
    {
     "data": {
      "image/png": "[encoded data removed]",
      "text/plain": [
       "<IPython.core.display.Image object>"
      ]
     },
     "execution_count": 10,
     "metadata": {},
     "output_type": "execute_result"
    }
   ],
   "source": [
    "#graficando el modelo\n",
    "tf.keras.utils.plot_model(model, to_file='model_plot4a.png', show_shapes=True, show_layer_names=True)"
   ]
  },
  {
   "cell_type": "code",
   "execution_count": null,
   "metadata": {},
   "outputs": [],
   "source": []
  },
  {
   "cell_type": "code",
   "execution_count": null,
   "metadata": {},
   "outputs": [],
   "source": []
  },
  {
   "cell_type": "code",
   "execution_count": 11,
   "metadata": {},
   "outputs": [],
   "source": [
    "#compilando la red\n",
    "model.compile(loss='categorical_crossentropy', optimizer='adam', metrics=['accuracy'])"
   ]
  },
  {
   "cell_type": "code",
   "execution_count": 12,
   "metadata": {},
   "outputs": [
    {
     "name": "stdout",
     "output_type": "stream",
     "text": [
      "Epoch 1/10\n",
      "24/24 [==============================] - 5s 147ms/step - loss: 1.9426 - accuracy: 0.1677 - val_loss: 1.9429 - val_accuracy: 0.1458\n",
      "Epoch 2/10\n",
      "24/24 [==============================] - 2s 94ms/step - loss: 1.9184 - accuracy: 0.2404 - val_loss: 1.9216 - val_accuracy: 0.1458\n",
      "Epoch 3/10\n",
      "24/24 [==============================] - 2s 96ms/step - loss: 1.8421 - accuracy: 0.2548 - val_loss: 1.8709 - val_accuracy: 0.1875\n",
      "Epoch 4/10\n",
      "24/24 [==============================] - 2s 97ms/step - loss: 1.7023 - accuracy: 0.3460 - val_loss: 1.6977 - val_accuracy: 0.3073\n",
      "Epoch 5/10\n",
      "24/24 [==============================] - 2s 97ms/step - loss: 1.5124 - accuracy: 0.3889 - val_loss: 1.8306 - val_accuracy: 0.2969\n",
      "Epoch 6/10\n",
      "24/24 [==============================] - 2s 95ms/step - loss: 1.3461 - accuracy: 0.4930 - val_loss: 1.7226 - val_accuracy: 0.3333\n",
      "Epoch 7/10\n",
      "24/24 [==============================] - 2s 98ms/step - loss: 1.0889 - accuracy: 0.6427 - val_loss: 1.5090 - val_accuracy: 0.3438\n",
      "Epoch 8/10\n",
      "24/24 [==============================] - 3s 124ms/step - loss: 1.0804 - accuracy: 0.5515 - val_loss: 1.7133 - val_accuracy: 0.4167\n",
      "Epoch 9/10\n",
      "24/24 [==============================] - 2s 100ms/step - loss: 0.8945 - accuracy: 0.7632 - val_loss: 1.4791 - val_accuracy: 0.4479\n",
      "Epoch 10/10\n",
      "24/24 [==============================] - 2s 97ms/step - loss: 0.6140 - accuracy: 0.8431 - val_loss: 1.5844 - val_accuracy: 0.3281\n"
     ]
    }
   ],
   "source": [
    "#entrenando la red\n",
    "#history = model.fit(train_articles, train_labels, epochs=epochs, batch_size=batch_size,validation_split=0.1,callbacks=[EarlyStopping(monitor='val_loss', patience=3, min_delta=0.0001)])\n",
    "#history = model.fit(train_articles, train_labels, epochs=epochs, batch_size=batch_size,validation_split=0.1,callbacks=[EarlyStopping(monitor='val_loss', patience=3, min_delta=0.0001)])\n",
    "history = model.fit(train_articles, train_labels, epochs=epochs,validation_data=(validation_articles,validation_labels))"
   ]
  },
  {
   "cell_type": "code",
   "execution_count": 13,
   "metadata": {},
   "outputs": [
    {
     "name": "stdout",
     "output_type": "stream",
     "text": [
      "6/6 [==============================] - 0s 24ms/step - loss: 1.5844 - accuracy: 0.3281\n",
      "Test set\n",
      "  Loss: 1.584\n",
      "  Accuracy: 0.328\n"
     ]
    }
   ],
   "source": [
    "#evaluando la red\n",
    "accr = model.evaluate(validation_articles,validation_labels)\n",
    "print('Test set\\n  Loss: {:0.3f}\\n  Accuracy: {:0.3f}'.format(accr[0],accr[1]))"
   ]
  },
  {
   "cell_type": "code",
   "execution_count": null,
   "metadata": {},
   "outputs": [],
   "source": []
  }
 ],
 "metadata": {
  "kernelspec": {
   "display_name": "Python 3",
   "language": "python",
   "name": "python3"
  },
  "language_info": {
   "codemirror_mode": {
    "name": "ipython",
    "version": 3
   },
   "file_extension": ".py",
   "mimetype": "text/x-python",
   "name": "python",
   "nbconvert_exporter": "python",
   "pygments_lexer": "ipython3",
   "version": "3.7.9"
  }
 },
 "nbformat": 4,
 "nbformat_minor": 4
}
