{
 "cells": [
  {
   "cell_type": "code",
   "execution_count": 1,
   "metadata": {},
   "outputs": [
    {
     "name": "stderr",
     "output_type": "stream",
     "text": [
      "Using TensorFlow backend.\n"
     ]
    }
   ],
   "source": [
    "import tensorflow as tf\n",
    "import numpy as np\n",
    "from tensorflow.keras.preprocessing.text import Tokenizer\n",
    "from tensorflow.keras.preprocessing.sequence import pad_sequences\n",
    "from tensorflow.keras.models import Sequential\n",
    "from tensorflow.keras import layers\n",
    "from tensorflow.keras.layers import Dense, Flatten, LSTM, Dropout, Activation, Embedding, Bidirectional,SpatialDropout1D\n",
    "from sklearn.model_selection import train_test_split\n",
    "from tensorflow.keras.callbacks import EarlyStopping\n",
    "import pandas\n",
    "from keras.utils import plot_model"
   ]
  },
  {
   "cell_type": "code",
   "execution_count": 2,
   "metadata": {},
   "outputs": [],
   "source": [
    "#parametros para vocabulario y la red\n",
    "vocab_size = 15000 # make the top list of words (common words)\n",
    "embedding_dim = 64\n",
    "max_length = 200\n",
    "trunc_type = 'post'\n",
    "padding_type = 'post'\n",
    "oov_tok = '<OOV>' # OOV = Out of Vocabulary\n",
    "training_portion = .8\n",
    "epochs = 10\n",
    "batch_size = 64"
   ]
  },
  {
   "cell_type": "code",
   "execution_count": 3,
   "metadata": {},
   "outputs": [],
   "source": [
    "#lectura del dataset\n",
    "DataSet=pandas.read_csv(\"c:\\\\AttributionDL\\\\AttributionDataset.csv\", delimiter = ',')\n",
    "#los datos son reordenados al azar\n",
    "DataSet=DataSet.sample(frac = 1).reset_index(drop=True)#to shuffle your dataframe in-place and reset the index"
   ]
  },
  {
   "cell_type": "code",
   "execution_count": 4,
   "metadata": {},
   "outputs": [
    {
     "name": "stdout",
     "output_type": "stream",
     "text": [
      "                Autor                                              Texto\n",
      "0           MarkTwain  You're educated, too, they say--can read and\\r...\n",
      "1           MarkTwain  It's the first one I've seen this year.\" \"Say,...\n",
      "2    FrederickMarryat  You would scarcely believe that the fibers of ...\n",
      "3        GeorgeDonald  To be right is no adjunct of completeness; it ...\n",
      "4     BoothTarkington  she asked, breathlessly. \"What's the padlock f...\n",
      "..                ...                                                ...\n",
      "955   BoothTarkington  The word is\\r\\n'potent'.\" Ramsey flopped his h...\n",
      "956      GeorgeVaizey  She Is getting up--_pink_ this time! I can see...\n",
      "957         MarkTwain  TOM SAWYER ABROAD\\r\\n\\r\\nBy Mark Twain\\r\\n\\r\\n...\n",
      "958  FrederickMarryat  The Pacha of Many Tales, by Captain Marryat. C...\n",
      "959         MarkTwain  Come, this one's interesting. Why, Berkeley, h...\n",
      "\n",
      "[960 rows x 2 columns]\n"
     ]
    }
   ],
   "source": [
    "print (DataSet)"
   ]
  },
  {
   "cell_type": "code",
   "execution_count": 5,
   "metadata": {},
   "outputs": [],
   "source": [
    "articles = []\n",
    "labels = []\n",
    "#se extraen los datos a cada una de las listas\n",
    "for i in range(len(DataSet)) : \n",
    "    labels.append(DataSet.loc[i, \"Autor\"])\n",
    "    articles.append(DataSet.loc[i, \"Texto\"])"
   ]
  },
  {
   "cell_type": "code",
   "execution_count": 6,
   "metadata": {},
   "outputs": [
    {
     "name": "stdout",
     "output_type": "stream",
     "text": [
      "Found 108091 unique tokens.\n"
     ]
    }
   ],
   "source": [
    "#se crea el vocabulario\n",
    "tokenizer = Tokenizer(num_words = vocab_size, oov_token=oov_tok,filters='!\"#$%&()*+,-./:;<=>?@[\\]^_`{|}~ ', lower=True, split=' ', char_level=False)\n",
    "tokenizer.fit_on_texts(articles)\n",
    "word_index = tokenizer.word_index\n",
    "print('Found %s unique tokens.' % len(word_index))"
   ]
  },
  {
   "cell_type": "code",
   "execution_count": 7,
   "metadata": {},
   "outputs": [
    {
     "name": "stdout",
     "output_type": "stream",
     "text": [
      "Shape of data tensor: (960, 200)\n",
      "Shape of label tensor: (960, 7)\n"
     ]
    }
   ],
   "source": [
    "#los textos se convierten a numeros \n",
    "TextToSequencesArticles = tokenizer.texts_to_sequences(articles) \n",
    "#despues se fijan a una misma longitud (200)\n",
    "TextToSequencesArticles = pad_sequences(TextToSequencesArticles, maxlen=max_length)\n",
    "print('Shape of data tensor:', TextToSequencesArticles.shape)\n",
    "#las etiquetas de autor son convertidas a one-hot encode\n",
    "CategoricalToNumbersLabels = pandas.get_dummies(labels)\n",
    "print('Shape of label tensor:', CategoricalToNumbersLabels.shape)"
   ]
  },
  {
   "cell_type": "code",
   "execution_count": 8,
   "metadata": {},
   "outputs": [
    {
     "name": "stdout",
     "output_type": "stream",
     "text": [
      "(768, 200) (768, 7)\n",
      "(192, 200) (192, 7)\n"
     ]
    }
   ],
   "source": [
    "#creando conjuntos de entrenamiento y prueba\n",
    "train_articles,validation_articles,train_labels,validation_labels = train_test_split(TextToSequencesArticles,CategoricalToNumbersLabels, test_size = 0.20, random_state = 42)\n",
    "print(train_articles.shape,train_labels.shape)\n",
    "print(validation_articles.shape,validation_labels.shape)"
   ]
  },
  {
   "cell_type": "raw",
   "metadata": {},
   "source": [
    "embedding_dim = 50 #ESTA CELDA SE HABILITA O DESABILITA PARA PROBAR UNA U OTRA CONFIGURACION DE RED\n",
    "\n",
    "model = Sequential()\n",
    "model.add(layers.Embedding(input_dim=vocab_size,output_dim=embedding_dim,input_length=max_length))\n",
    "model.add(layers.Flatten())\n",
    "model.add(layers.Dense(10, activation='relu'))\n",
    "model.add(layers.Dense(7, activation='sigmoid'))\n",
    "model.compile(optimizer='adam',loss='categorical_crossentropy',metrics=['accuracy'])\n",
    "model.summary()"
   ]
  },
  {
   "cell_type": "raw",
   "metadata": {},
   "source": [
    "embedding_dim = 50 #ESTA CELDA SE HABILITA O DESABILITA PARA PROBAR UNA U OTRA CONFIGURACION DE RED\n",
    "model = Sequential()\n",
    "model.add(layers.Embedding(input_dim=vocab_size,output_dim=embedding_dim,input_length=max_length))\n",
    "model.add(layers.GlobalMaxPool1D())\n",
    "model.add(layers.Dense(10, activation='relu'))\n",
    "model.add(layers.Dense(7, activation='sigmoid'))\n",
    "model.compile(optimizer='adam',loss='categorical_crossentropy',metrics=['accuracy'])\n",
    "model.summary()"
   ]
  },
  {
   "cell_type": "code",
   "execution_count": 26,
   "metadata": {},
   "outputs": [
    {
     "name": "stdout",
     "output_type": "stream",
     "text": [
      "Model: \"sequential_5\"\n",
      "_________________________________________________________________\n",
      "Layer (type)                 Output Shape              Param #   \n",
      "=================================================================\n",
      "embedding_3 (Embedding)      (None, 200, 100)          1500000   \n",
      "_________________________________________________________________\n",
      "conv1d (Conv1D)              (None, 196, 128)          64128     \n",
      "_________________________________________________________________\n",
      "global_max_pooling1d_2 (Glob (None, 128)               0         \n",
      "_________________________________________________________________\n",
      "dense_6 (Dense)              (None, 10)                1290      \n",
      "_________________________________________________________________\n",
      "dense_7 (Dense)              (None, 7)                 77        \n",
      "=================================================================\n",
      "Total params: 1,565,495\n",
      "Trainable params: 1,565,495\n",
      "Non-trainable params: 0\n",
      "_________________________________________________________________\n"
     ]
    }
   ],
   "source": [
    "embedding_dim = 100 #ESTA CELDA SE HABILITA O DESABILITA PARA PROBAR UNA U OTRA CONFIGURACION DE RED\n",
    "\n",
    "model = Sequential()\n",
    "model.add(layers.Embedding(vocab_size, embedding_dim, input_length=max_length))\n",
    "model.add(layers.Conv1D(128, 5, activation='relu'))\n",
    "model.add(layers.GlobalMaxPooling1D())\n",
    "model.add(layers.Dense(10, activation='relu'))\n",
    "model.add(layers.Dense(7, activation='sigmoid'))\n",
    "model.compile(optimizer='adam',loss='binary_crossentropy',metrics=['accuracy'])\n",
    "model.summary()\n"
   ]
  },
  {
   "cell_type": "code",
   "execution_count": 27,
   "metadata": {},
   "outputs": [
    {
     "data": {
      "image/png": "[encoded data removed]",
      "text/plain": [
       "<IPython.core.display.Image object>"
      ]
     },
     "execution_count": 27,
     "metadata": {},
     "output_type": "execute_result"
    }
   ],
   "source": [
    "#graficando el modelo\n",
    "tf.keras.utils.plot_model(model, to_file='model_plot4a.png', show_shapes=True, show_layer_names=True)"
   ]
  },
  {
   "cell_type": "code",
   "execution_count": 28,
   "metadata": {},
   "outputs": [],
   "source": [
    "#compilando la red\n",
    "model.compile(loss='categorical_crossentropy', optimizer='adam', metrics=['accuracy'])"
   ]
  },
  {
   "cell_type": "code",
   "execution_count": 29,
   "metadata": {},
   "outputs": [
    {
     "name": "stdout",
     "output_type": "stream",
     "text": [
      "Epoch 1/10\n",
      "24/24 [==============================] - 2s 64ms/step - loss: 1.9422 - accuracy: 0.1508 - val_loss: 1.9397 - val_accuracy: 0.1667\n",
      "Epoch 2/10\n",
      "24/24 [==============================] - 1s 59ms/step - loss: 1.8711 - accuracy: 0.3332 - val_loss: 1.9332 - val_accuracy: 0.1823\n",
      "Epoch 3/10\n",
      "24/24 [==============================] - 1s 60ms/step - loss: 1.7735 - accuracy: 0.4471 - val_loss: 1.9116 - val_accuracy: 0.1875\n",
      "Epoch 4/10\n",
      "24/24 [==============================] - 2s 72ms/step - loss: 1.6417 - accuracy: 0.4521 - val_loss: 1.8875 - val_accuracy: 0.2188\n",
      "Epoch 5/10\n",
      "24/24 [==============================] - 1s 55ms/step - loss: 1.4709 - accuracy: 0.4578 - val_loss: 1.8606 - val_accuracy: 0.2396\n",
      "Epoch 6/10\n",
      "24/24 [==============================] - 1s 53ms/step - loss: 1.2420 - accuracy: 0.5422 - val_loss: 1.8153 - val_accuracy: 0.2812\n",
      "Epoch 7/10\n",
      "24/24 [==============================] - 1s 54ms/step - loss: 1.0029 - accuracy: 0.6204 - val_loss: 1.7200 - val_accuracy: 0.3490\n",
      "Epoch 8/10\n",
      "24/24 [==============================] - 1s 53ms/step - loss: 0.7979 - accuracy: 0.8059 - val_loss: 1.6532 - val_accuracy: 0.3750\n",
      "Epoch 9/10\n",
      "24/24 [==============================] - 1s 53ms/step - loss: 0.6092 - accuracy: 0.9159 - val_loss: 1.5780 - val_accuracy: 0.3906\n",
      "Epoch 10/10\n",
      "24/24 [==============================] - 2s 67ms/step - loss: 0.4314 - accuracy: 0.9918 - val_loss: 1.5364 - val_accuracy: 0.4010\n"
     ]
    }
   ],
   "source": [
    "#entrenando la red\n",
    "#history = model.fit(train_articles, train_labels, epochs=epochs, batch_size=batch_size,validation_split=0.1,callbacks=[EarlyStopping(monitor='val_loss', patience=3, min_delta=0.0001)])\n",
    "#history = model.fit(train_articles, train_labels, epochs=epochs, batch_size=batch_size,validation_split=0.1,callbacks=[EarlyStopping(monitor='val_loss', patience=3, min_delta=0.0001)])\n",
    "history = model.fit(train_articles, train_labels, epochs=epochs,validation_data=(validation_articles,validation_labels))"
   ]
  },
  {
   "cell_type": "code",
   "execution_count": 30,
   "metadata": {},
   "outputs": [
    {
     "name": "stdout",
     "output_type": "stream",
     "text": [
      "6/6 [==============================] - 0s 10ms/step - loss: 1.5364 - accuracy: 0.4010\n",
      "Test set\n",
      "  Loss: 1.536\n",
      "  Accuracy: 0.401\n"
     ]
    }
   ],
   "source": [
    "#evaluando la red\n",
    "accr = model.evaluate(validation_articles,validation_labels)\n",
    "print('Test set\\n  Loss: {:0.3f}\\n  Accuracy: {:0.3f}'.format(accr[0],accr[1]))"
   ]
  },
  {
   "cell_type": "code",
   "execution_count": null,
   "metadata": {},
   "outputs": [],
   "source": []
  },
  {
   "cell_type": "code",
   "execution_count": null,
   "metadata": {},
   "outputs": [],
   "source": []
  },
  {
   "cell_type": "code",
   "execution_count": null,
   "metadata": {},
   "outputs": [],
   "source": []
  },
  {
   "cell_type": "code",
   "execution_count": null,
   "metadata": {},
   "outputs": [],
   "source": []
  }
 ],
 "metadata": {
  "kernelspec": {
   "display_name": "Python 3",
   "language": "python",
   "name": "python3"
  },
  "language_info": {
   "codemirror_mode": {
    "name": "ipython",
    "version": 3
   },
   "file_extension": ".py",
   "mimetype": "text/x-python",
   "name": "python",
   "nbconvert_exporter": "python",
   "pygments_lexer": "ipython3",
   "version": "3.7.9"
  }
 },
 "nbformat": 4,
 "nbformat_minor": 4
}
